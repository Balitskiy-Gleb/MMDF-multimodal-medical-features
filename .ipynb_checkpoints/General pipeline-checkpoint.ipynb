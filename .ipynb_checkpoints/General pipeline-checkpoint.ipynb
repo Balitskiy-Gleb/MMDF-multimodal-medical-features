{
 "cells": [
  {
   "cell_type": "markdown",
   "metadata": {},
   "source": [
    "1. Create features from ECG\n",
    "2. Create features from EHR\n",
    "3. Сreate storage\n",
    "4. Build single model benchmarks\n",
    "5. Add feature analysis and visualisation tool\n",
    "6. Apply classification models\n",
    "7. Compare single model benchmarks and multy modal\n",
    "7. Verify documentation\n",
    "\n"
   ]
  }
 ],
 "metadata": {
  "kernelspec": {
   "display_name": "Python 3",
   "language": "python",
   "name": "python3"
  },
  "language_info": {
   "codemirror_mode": {
    "name": "ipython",
    "version": 3
   },
   "file_extension": ".py",
   "mimetype": "text/x-python",
   "name": "python",
   "nbconvert_exporter": "python",
   "pygments_lexer": "ipython3",
   "version": "3.6.7"
  }
 },
 "nbformat": 4,
 "nbformat_minor": 2
}
